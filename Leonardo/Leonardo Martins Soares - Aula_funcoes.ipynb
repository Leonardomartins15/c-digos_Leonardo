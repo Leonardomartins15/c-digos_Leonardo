{
 "cells": [
  {
   "cell_type": "code",
   "execution_count": 3,
   "id": "5e5354a7",
   "metadata": {},
   "outputs": [],
   "source": [
    "# estou importando o pyautogui e apelidando ele de aut\n",
    "import pyautogui as aut \n",
    "\n",
    "# pressiono a tecla de atalho win +r\n",
    "aut.hotkey(\"win\", \"r\")\n",
    "# escrever notepad\n",
    "aut.write(\"notepad\", interval=0.7)\n",
    "# espera 1 segundo\n",
    "aut.sleep(1)\n",
    "# aperta o enter\n",
    "aut.press(\"Enter\")"
   ]
  }
 ],
 "metadata": {
  "kernelspec": {
   "display_name": "Python 3",
   "language": "python",
   "name": "python3"
  },
  "language_info": {
   "codemirror_mode": {
    "name": "ipython",
    "version": 3
   },
   "file_extension": ".py",
   "mimetype": "text/x-python",
   "name": "python",
   "nbconvert_exporter": "python",
   "pygments_lexer": "ipython3",
   "version": "3.13.2"
  }
 },
 "nbformat": 4,
 "nbformat_minor": 5
}
