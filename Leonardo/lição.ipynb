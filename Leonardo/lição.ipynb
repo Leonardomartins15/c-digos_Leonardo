{
 "cells": [
  {
   "cell_type": "markdown",
   "id": "4f7a1d42",
   "metadata": {},
   "source": [
    "### Jogo de advinhação\n",
    "\n",
    "Vamos criar um jogo que advinha o número que o usuário digitou!!\n"
   ]
  },
  {
   "cell_type": "code",
   "execution_count": 6,
   "id": "5fa02260",
   "metadata": {},
   "outputs": [
    {
     "name": "stdout",
     "output_type": "stream",
     "text": [
      "Jogo de advinhação!!! Boa Sorte!!\n",
      "------------------------------------\n",
      " seu numero é 5.0\n"
     ]
    }
   ],
   "source": [
    "print(\"Jogo de advinhação!!! Boa Sorte!!\")\n",
    "print(\"------------------------------------\")\n",
    "## o número deve ser float, pois deve aceitar tanto números inteiros, quanto números quebrados\n",
    "numero_usuario = float(input(\"digite um numero\"))\n",
    "print(f\" seu numero é {numero_usuario}\")"
   ]
  },
  {
   "cell_type": "markdown",
   "id": "56cf80bf",
   "metadata": {},
   "source": [
    "### Meu carro do sonho\n",
    "\n",
    "Vamos pedir para o usuário nos informar o nome do carro e o preço do carro dos sonhos deles."
   ]
  },
  {
   "cell_type": "code",
   "execution_count": 9,
   "id": "7d9330a4",
   "metadata": {},
   "outputs": [
    {
     "name": "stdout",
     "output_type": "stream",
     "text": [
      "o seu carro dos sonhos é versa, o preço que falta para comprar o carro e 5000.0\n"
     ]
    }
   ],
   "source": [
    "# 1º Primeiro peça ao usuário o nome do carro dos sonhos:\n",
    "nome_carro = input(\"Informe o nome do seu carro do sonho:\")\n",
    "# 2º Peça o preço do carro dos sonhos\n",
    "preço = float(input(\"informe o preço do carro do seu sonho:\"))\n",
    "# 3º Pergunte quanto dinheiro o usuário tem e guarde o valor em uma variável\n",
    "usuario_dinheiro = float(input(\"quantos dinheiro vc tem?\"))\n",
    "# 4º Calcule quanto falta para o usuário conseguir comprar o carro\n",
    "calculo = preço - usuario_dinheiro\n",
    "# 5º Mostre na tela o nome do carro o preço dele e quanto falta para o usuário realizar o sonho dele.\n",
    "print(f\"o seu carro dos sonhos é {nome_carro}, o preço que falta para comprar o carro e {calculo}\")\n",
    "\n"
   ]
  },
  {
   "cell_type": "markdown",
   "id": "d28ba737",
   "metadata": {},
   "source": [
    "### Agenda de Celular\n",
    "\n",
    "Peça ao usuário que informe o nome dele e o número do telefone dele\n",
    "\n",
    "Depois mostre ao usuário print() com uma mensagem o nome dele e o número do telefone"
   ]
  },
  {
   "cell_type": "code",
   "execution_count": 10,
   "id": "3037f6bb",
   "metadata": {},
   "outputs": [
    {
     "name": "stdout",
     "output_type": "stream",
     "text": [
      "o nome do usuario é leonardo,e o seu numero de telefone é 112090\n"
     ]
    }
   ],
   "source": [
    "# preciso pedir o nome do usuário\n",
    "nome_usuario = input(\"qual é o seu nome?\")\n",
    "#preciso pedir o telefone\n",
    "telefone = input(\"digite seu numero de telefone:\")\n",
    "# mostrar as informações\n",
    "print(f\"o nome do usuario é {nome_usuario},e o seu numero de telefone é {telefone}\")\n",
    "\n"
   ]
  },
  {
   "cell_type": "markdown",
   "id": "3312349f",
   "metadata": {},
   "source": [
    "### Adivinha a idade\n",
    "\n",
    "preciso do ano do nascimento e o ano atual\n",
    "\n",
    "formula = ano_atual - ano_nascimento\n",
    "\n",
    "tipo da variavel int"
   ]
  },
  {
   "cell_type": "code",
   "execution_count": 16,
   "id": "4d8cbcc1",
   "metadata": {},
   "outputs": [
    {
     "name": "stdout",
     "output_type": "stream",
     "text": [
      "o ano que ele nasceu foi 2009, o ano que estamos é 2025, a idade dele é 16 anos\n"
     ]
    }
   ],
   "source": [
    "ano_nascimento = int(2009)\n",
    "ano_atual = int(2025)\n",
    "calculo = 2025-2009\n",
    "print(f\"o ano que ele nasceu foi {ano_nascimento}, o ano que estamos é {ano_atual}, a idade dele é {calculo} anos\")\n",
    "\n"
   ]
  }
 ],
 "metadata": {
  "kernelspec": {
   "display_name": "Python 3",
   "language": "python",
   "name": "python3"
  },
  "language_info": {
   "codemirror_mode": {
    "name": "ipython",
    "version": 3
   },
   "file_extension": ".py",
   "mimetype": "text/x-python",
   "name": "python",
   "nbconvert_exporter": "python",
   "pygments_lexer": "ipython3",
   "version": "3.13.2"
  }
 },
 "nbformat": 4,
 "nbformat_minor": 5
}
