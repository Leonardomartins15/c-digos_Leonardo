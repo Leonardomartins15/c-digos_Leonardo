{
 "cells": [
  {
   "cell_type": "code",
   "execution_count": 1,
   "id": "b8d79373",
   "metadata": {},
   "outputs": [
    {
     "name": "stdout",
     "output_type": "stream",
     "text": [
      "Sobrou R$8000.0\n"
     ]
    }
   ],
   "source": [
    "salario = float(input(\"Digite o sálario:\"))\n",
    "\n",
    "# gastos\n",
    "\n",
    "contas_agua_luz = float(input(\"Qual é seu total de gastos por mês com conta de luz e de àgua :\"))\n",
    "alimentos  = float(input(\"Quantos você gasta por mês com alimentos:\"))\n",
    "roupas = float(input(\"Quantos você gasta por mês com roupas:\"))\n",
    "internet = float(input(\"Quantos é o seu gasto com internet:\"))\n",
    "lazer = float(input(\"Quantos é seu gasto com lazer :\"))\n",
    "\n",
    "total_gasto = contas_agua_luz + alimentos + roupas + internet + lazer\n",
    "\n",
    "sobra_dinheiro = salario - total_gasto\n",
    "\n",
    "print(f\"Sobrou R${sobra_dinheiro}\")"
   ]
  }
 ],
 "metadata": {
  "kernelspec": {
   "display_name": "Python 3",
   "language": "python",
   "name": "python3"
  },
  "language_info": {
   "codemirror_mode": {
    "name": "ipython",
    "version": 3
   },
   "file_extension": ".py",
   "mimetype": "text/x-python",
   "name": "python",
   "nbconvert_exporter": "python",
   "pygments_lexer": "ipython3",
   "version": "3.13.2"
  }
 },
 "nbformat": 4,
 "nbformat_minor": 5
}
