{
 "cells": [
  {
   "cell_type": "code",
   "execution_count": null,
   "id": "b18e063f",
   "metadata": {},
   "outputs": [],
   "source": [
    "import pyautogui as aut\n",
    "# pressiono a tecla de atalho win +r\n",
    "aut.hotkey(\"win\", \"r\")\n",
    "# escrever notepad\n",
    "aut.write(\"notepad\", interval=0.2)\n",
    "# espera 1 segundo\n",
    "aut.sleep(1)\n",
    "# aperta o enter\n",
    "aut.press(\"Enter\")\n",
    "aut.sleep(1)\n",
    "aut.moveTo(306,335)\n",
    "aut.click()\n",
    "aut.sleep(1)\n",
    "aut.write(\"Professor Top\", interval = 0.2)\n",
    "\n"
   ]
  },
  {
   "cell_type": "code",
   "execution_count": 66,
   "id": "989a3f2a",
   "metadata": {},
   "outputs": [],
   "source": [
    "import pyautogui as aut\n",
    "aut.hotkey(\"win\", \"r\")\n",
    "aut.write(\"chrome\", interval=0.2)\n",
    "aut.sleep(1)\n",
    "aut.press(\"Enter\")\n",
    "aut.moveTo(1004,601)\n",
    "aut.click()\n",
    "aut.sleep(1)\n",
    "aut.write(\"https://www.youtube.com\", interval=0.4)\n",
    "aut.press(\"Enter\")\n",
    "\n",
    "aut.moveTo(664,122)\n",
    "aut.click()\n",
    "aut.sleep(1)\n",
    "aut.press(\"Enter\")\n",
    "aut.write(\"yellow\", interval = 0.2)\n",
    "aut.press(\"Enter\")\n"
   ]
  },
  {
   "cell_type": "code",
   "execution_count": 121,
   "id": "2cdc7321",
   "metadata": {},
   "outputs": [],
   "source": [
    "aut.mouseInfo()"
   ]
  },
  {
   "cell_type": "code",
   "execution_count": 110,
   "id": "216e2ab4",
   "metadata": {},
   "outputs": [],
   "source": [
    "### Calculadora\n",
    "\n",
    "import pyautogui as aut\n",
    "aut.hotkey(\"win\")\n",
    "aut.write(\"calculadora\", interval=0.2)\n",
    "aut.sleep(1)\n",
    "aut.press(\"Enter\")\n",
    "aut.sleep(1)\n",
    "aut.moveTo(1061,237)\n",
    "aut.click()\n",
    "aut.sleep(1)\n",
    "aut.write(\"5+1\", interval=0.2)\n",
    "aut.press(\"Enter\")\n",
    "\n"
   ]
  },
  {
   "cell_type": "code",
   "execution_count": 122,
   "id": "a5983cd3",
   "metadata": {},
   "outputs": [],
   "source": [
    "### Desenho de uma casa\n",
    "\n",
    "import pyautogui as aut\n",
    "aut.hotkey(\"win\")\n",
    "aut.write(\"paint\", interval=0.2)\n",
    "aut.sleep(1)\n",
    "aut.press(\"Enter\")\n",
    "aut.sleep(1)\n",
    "aut.moveTo(865,703)\n",
    "aut.click()\n",
    "aut.sleep(1)\n",
    "aut.press(\"Enter\")\n",
    "aut.dragTo(334,176)\n",
    "aut.dragTo()\n"
   ]
  }
 ],
 "metadata": {
  "kernelspec": {
   "display_name": "Python 3",
   "language": "python",
   "name": "python3"
  },
  "language_info": {
   "codemirror_mode": {
    "name": "ipython",
    "version": 3
   },
   "file_extension": ".py",
   "mimetype": "text/x-python",
   "name": "python",
   "nbconvert_exporter": "python",
   "pygments_lexer": "ipython3",
   "version": "3.13.2"
  }
 },
 "nbformat": 4,
 "nbformat_minor": 5
}
